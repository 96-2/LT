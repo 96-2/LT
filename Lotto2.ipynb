{
 "cells": [
  {
   "cell_type": "code",
   "execution_count": 14,
   "metadata": {},
   "outputs": [
    {
     "data": {
      "text/plain": [
       "1064"
      ]
     },
     "execution_count": 14,
     "metadata": {},
     "output_type": "execute_result"
    }
   ],
   "source": [
    "import numpy as np\n",
    "import pandas as pd\n",
    "import datetime\n",
    "import matplotlib.pyplot as plt\n",
    "import matplotlib.font_manager as fm\n",
    "import math\n",
    "from bisect import bisect_left, bisect_right\n",
    "from itertools import combinations\n",
    "import seaborn as sns\n",
    "import random\n",
    "from copy import deepcopy\n",
    "from bisect import bisect_left, bisect_right\n",
    "\n",
    "fname='./NanumBarunGothic.otf'\n",
    "font = fm.FontProperties(fname = fname).get_name()\n",
    "plt.rcParams[\"font.family\"] = font\n",
    "\n",
    "board = pd.DataFrame({})\n",
    "board = pd.read_csv('LT2.csv', encoding='utf-8')\n",
    "#board = pd.read_csv('LT2_lastweek.csv', encoding='utf-8')\n",
    "lastRound = len(board.iloc[0,:]) - 1\n",
    "lastRound"
   ]
  },
  {
   "cell_type": "code",
   "execution_count": 89,
   "metadata": {},
   "outputs": [],
   "source": [
    "def getRoundWinNum(round):\n",
    "    return board.iloc[:, round].to_list()\n",
    "\n",
    "def getNumCnt(round, n):\n",
    "    ret = [0 for i in range(46)]\n",
    "    for rnd in range(round-n+1, round + 1):\n",
    "        winnum = getRoundWinNum(rnd)\n",
    "        for num in winnum:\n",
    "            ret[num] += 1\n",
    "    return ret\n",
    "\n",
    "def getNumCntCnt(round, n):\n",
    "    ret = [0 for i in range(n+1)]\n",
    "    numCnt = getNumCnt(round, n)  \n",
    "    for i in range(1, 46):\n",
    "        ret[numCnt[i]] += 1\n",
    "    return ret\n",
    "\n",
    "def getMcntInN(n):\n",
    "    ret = [[] for i in range(n+1)]\n",
    "    for rnd in range(n, lastRound):\n",
    "        numCnt = getNumCntCnt(rnd, n)\n",
    "        for m in range(n+1):\n",
    "            ret[m].append(numCnt[m])\n",
    "    \n",
    "    for i in range(n+1):\n",
    "        ret[i].sort()\n",
    "    return ret\n",
    "\n",
    "def getLoc(n):\n",
    "    ret = [[] for i in range(n + 1)]\n",
    "    raw = getMcntInN(n)\n",
    "    cur = getNumCntCnt(lastRound, n - 1)\n",
    "    for m in range(n):\n",
    "        loc_left = bisect_left(raw[m], cur[m])\n",
    "        loc_right = bisect_right(raw[m], cur[m])\n",
    "        ret[m] = [loc_left, loc_right]\n",
    "    return ret\n",
    "\n",
    "def getPercent(n, p):\n",
    "    ret = []\n",
    "    raw = getMcntInN(n)\n",
    "    res = getLoc(n)\n",
    "    raw_len = lastRound - n + 1\n",
    "    for m in range(n):\n",
    "        # print(m)\n",
    "        if res[m][1] / raw_len < p/100 or res[m][0] / raw_len > 1 - p/100:\n",
    "            # print(m)\n",
    "            ret_tmp = [m]\n",
    "            tmp = getNumCnt(lastRound, n-1)\n",
    "            tmp2 = []\n",
    "            for i in range(1, 46):\n",
    "                if tmp[i] == m:\n",
    "                    tmp2.append(i)\n",
    "            ret_tmp.append(tmp2)\n",
    "            if res[m][1] / raw_len < p/100:\n",
    "                # 너무 적은 경우 p/100 * raw_len 개는 res[m][1]이 돼야 됨. math.ceil(p/100 * raw_len)\n",
    "                to_add = raw[m][math.floor((1 - p/100) * raw_len)] - len(ret_tmp[1])\n",
    "                ret_tmp.append(to_add)\n",
    "            if res[m][0] / raw_len > 1 - p/100:\n",
    "                # 너무 큰 경우(1 - p/100) * raw_len 개보다 res[m][0]이 낮아져야 됨. math.floor((1 - p/100) * raw_len)\n",
    "                # print(math.floor((1 - p/100) * raw_len))\n",
    "                to_add = len(ret_tmp[1]) - raw[m][math.floor((1 - p/100) * raw_len)]\n",
    "                ret_tmp.append(to_add)\n",
    "            ret.append(ret_tmp)\n",
    "    return ret\n"
   ]
  },
  {
   "cell_type": "code",
   "execution_count": 90,
   "metadata": {},
   "outputs": [
    {
     "name": "stdout",
     "output_type": "stream",
     "text": [
      "26\n"
     ]
    },
    {
     "data": {
      "text/plain": [
       "[[0,\n",
       "  [1,\n",
       "   2,\n",
       "   5,\n",
       "   7,\n",
       "   8,\n",
       "   10,\n",
       "   11,\n",
       "   12,\n",
       "   13,\n",
       "   14,\n",
       "   15,\n",
       "   16,\n",
       "   17,\n",
       "   19,\n",
       "   21,\n",
       "   25,\n",
       "   26,\n",
       "   28,\n",
       "   29,\n",
       "   30,\n",
       "   33,\n",
       "   34,\n",
       "   36,\n",
       "   39,\n",
       "   42,\n",
       "   43,\n",
       "   44],\n",
       "  26]]"
      ]
     },
     "execution_count": 90,
     "metadata": {},
     "output_type": "execute_result"
    }
   ],
   "source": [
    "getPercent(5, 2)"
   ]
  },
  {
   "cell_type": "code",
   "execution_count": 66,
   "metadata": {},
   "outputs": [
    {
     "data": {
      "text/plain": [
       "[0,\n",
       " 0,\n",
       " 0,\n",
       " 3,\n",
       " 1,\n",
       " 0,\n",
       " 2,\n",
       " 0,\n",
       " 0,\n",
       " 1,\n",
       " 1,\n",
       " 0,\n",
       " 0,\n",
       " 0,\n",
       " 0,\n",
       " 0,\n",
       " 0,\n",
       " 0,\n",
       " 1,\n",
       " 0,\n",
       " 1,\n",
       " 0,\n",
       " 2,\n",
       " 1,\n",
       " 3,\n",
       " 0,\n",
       " 0,\n",
       " 1,\n",
       " 0,\n",
       " 0,\n",
       " 0,\n",
       " 1,\n",
       " 1,\n",
       " 1,\n",
       " 0,\n",
       " 2,\n",
       " 0,\n",
       " 1,\n",
       " 2,\n",
       " 0,\n",
       " 1,\n",
       " 1,\n",
       " 0,\n",
       " 0,\n",
       " 0,\n",
       " 3]"
      ]
     },
     "execution_count": 66,
     "metadata": {},
     "output_type": "execute_result"
    }
   ],
   "source": [
    "getNumCnt(lastRound, 5)"
   ]
  },
  {
   "cell_type": "code",
   "execution_count": 15,
   "metadata": {},
   "outputs": [],
   "source": [
    "tmp = getMcntInN(5)\n",
    "#"
   ]
  },
  {
   "cell_type": "code",
   "execution_count": 13,
   "metadata": {},
   "outputs": [
    {
     "data": {
      "text/plain": [
       "[27, 12, 6, 0, 0]"
      ]
     },
     "execution_count": 13,
     "metadata": {},
     "output_type": "execute_result"
    }
   ],
   "source": [
    "getNumCntCnt(lastRound, 4)"
   ]
  },
  {
   "cell_type": "code",
   "execution_count": 18,
   "metadata": {},
   "outputs": [
    {
     "data": {
      "text/plain": [
       "(56, 88)"
      ]
     },
     "execution_count": 18,
     "metadata": {},
     "output_type": "execute_result"
    }
   ],
   "source": [
    "bisect_left(tmp[1], 12), bisect_right(tmp[1], 12)"
   ]
  }
 ],
 "metadata": {
  "kernelspec": {
   "display_name": "Python 3",
   "language": "python",
   "name": "python3"
  },
  "language_info": {
   "codemirror_mode": {
    "name": "ipython",
    "version": 3
   },
   "file_extension": ".py",
   "mimetype": "text/x-python",
   "name": "python",
   "nbconvert_exporter": "python",
   "pygments_lexer": "ipython3",
   "version": "3.6.8"
  },
  "orig_nbformat": 4
 },
 "nbformat": 4,
 "nbformat_minor": 2
}
